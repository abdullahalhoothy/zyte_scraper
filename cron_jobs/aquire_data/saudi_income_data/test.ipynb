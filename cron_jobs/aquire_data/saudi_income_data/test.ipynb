{
 "cells": [
  {
   "cell_type": "code",
   "execution_count": 1,
   "id": "7f343754",
   "metadata": {},
   "outputs": [],
   "source": [
    "from pipeline import *"
   ]
  },
  {
   "cell_type": "code",
   "execution_count": null,
   "id": "d4bd2c23",
   "metadata": {},
   "outputs": [],
   "source": [
    "# Training pipeline\n",
    "# it requires the zad file to be in the cache\n",
    "db_string, city = (\"dbstring\", [\"الرياض\", \"Riyadh\"])\n",
    "income_data = get_dataset(db_string, city)\n",
    "models = train_model(income_data) \n",
    "#it will save everything to the the model's directory"
   ]
  },
  {
   "cell_type": "code",
   "execution_count": null,
   "id": "8f30dc63",
   "metadata": {},
   "outputs": [],
   "source": [
    "# Evaluation pipeline\n",
    "db_string, city = (\"dbstring\", [\"الرياض\", \"Riyadh\"])\n",
    "income_data = get_predicted_income(db_string, city)"
   ]
  },
  {
   "cell_type": "code",
   "execution_count": null,
   "id": "fe11e89a",
   "metadata": {},
   "outputs": [],
   "source": [
    "## Use any data with geometry column and make sure that the the courser data is actually coarser than the finner\n",
    "population_data = gpd.GeoDataFrame.from_features(\n",
    "        pd.read_json(\"all_features_v8.json\").features\n",
    "    )\n",
    "adapt(income_data, population_data)"
   ]
  }
 ],
 "metadata": {
  "kernelspec": {
   "display_name": "base",
   "language": "python",
   "name": "python3"
  },
  "language_info": {
   "codemirror_mode": {
    "name": "ipython",
    "version": 3
   },
   "file_extension": ".py",
   "mimetype": "text/x-python",
   "name": "python",
   "nbconvert_exporter": "python",
   "pygments_lexer": "ipython3",
   "version": "3.12.3"
  }
 },
 "nbformat": 4,
 "nbformat_minor": 5
}
